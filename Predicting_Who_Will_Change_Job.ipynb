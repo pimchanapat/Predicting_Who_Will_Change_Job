{
  "cells": [
    {
      "cell_type": "markdown",
      "source": [
        "# Libraries"
      ],
      "metadata": {
        "id": "fGxtq9D8_NoL"
      }
    },
    {
      "cell_type": "code",
      "execution_count": null,
      "metadata": {
        "id": "tU83goKuVzN1"
      },
      "outputs": [],
      "source": [
        "import numpy as np\n",
        "import pandas as pd\n",
        "import seaborn as sns\n",
        "import matplotlib.pyplot as plt\n",
        "import pandas_profiling as pp\n",
        "from sklearn.metrics import classification_report, accuracy_score\n",
        "from sklearn.impute import KNNImputer\n",
        "from sklearn.preprocessing import OneHotEncoder, LabelEncoder\n",
        "from imblearn.over_sampling import SMOTE\n",
        "from sklearn.model_selection import train_test_split\n",
        "from sklearn.linear_model import LogisticRegression\n",
        "from sklearn.tree import DecisionTreeClassifier\n",
        "from sklearn.svm import SVC\n",
        "from sklearn.ensemble import RandomForestClassifier\n",
        "from sklearn.metrics import confusion_matrix\n",
        "from sklearn.metrics import ConfusionMatrixDisplay\n",
        "from sklearn.model_selection import RandomizedSearchCV\n",
        "from sklearn.model_selection import GridSearchCV\n",
        "from collections import Counter"
      ]
    },
    {
      "cell_type": "markdown",
      "metadata": {
        "id": "yavvymG4VzN4"
      },
      "source": [
        "# Dataset\n"
      ]
    },
    {
      "cell_type": "code",
      "execution_count": null,
      "metadata": {
        "colab": {
          "base_uri": "https://localhost:8080/",
          "height": 583
        },
        "id": "i-leC8WdVzN6",
        "outputId": "73fceec8-e753-4fd5-a4e2-168bac418544"
      },
      "outputs": [
        {
          "output_type": "execute_result",
          "data": {
            "text/html": [
              "\n",
              "  <div id=\"df-d79555a5-152d-4220-b507-5f402b14923f\">\n",
              "    <div class=\"colab-df-container\">\n",
              "      <div>\n",
              "<style scoped>\n",
              "    .dataframe tbody tr th:only-of-type {\n",
              "        vertical-align: middle;\n",
              "    }\n",
              "\n",
              "    .dataframe tbody tr th {\n",
              "        vertical-align: top;\n",
              "    }\n",
              "\n",
              "    .dataframe thead th {\n",
              "        text-align: right;\n",
              "    }\n",
              "</style>\n",
              "<table border=\"1\" class=\"dataframe\">\n",
              "  <thead>\n",
              "    <tr style=\"text-align: right;\">\n",
              "      <th></th>\n",
              "      <th>enrollee_id</th>\n",
              "      <th>city</th>\n",
              "      <th>city_development_index</th>\n",
              "      <th>gender</th>\n",
              "      <th>relevent_experience</th>\n",
              "      <th>enrolled_university</th>\n",
              "      <th>education_level</th>\n",
              "      <th>major_discipline</th>\n",
              "      <th>experience</th>\n",
              "      <th>company_size</th>\n",
              "      <th>company_type</th>\n",
              "      <th>last_new_job</th>\n",
              "      <th>training_hours</th>\n",
              "      <th>target</th>\n",
              "    </tr>\n",
              "  </thead>\n",
              "  <tbody>\n",
              "    <tr>\n",
              "      <th>586</th>\n",
              "      <td>13597</td>\n",
              "      <td>city_36</td>\n",
              "      <td>0.893</td>\n",
              "      <td>Male</td>\n",
              "      <td>Has relevent experience</td>\n",
              "      <td>no_enrollment</td>\n",
              "      <td>Masters</td>\n",
              "      <td>STEM</td>\n",
              "      <td>12</td>\n",
              "      <td>10000+</td>\n",
              "      <td>Pvt Ltd</td>\n",
              "      <td>1</td>\n",
              "      <td>107</td>\n",
              "      <td>0.0</td>\n",
              "    </tr>\n",
              "    <tr>\n",
              "      <th>13512</th>\n",
              "      <td>20114</td>\n",
              "      <td>city_136</td>\n",
              "      <td>0.897</td>\n",
              "      <td>Male</td>\n",
              "      <td>No relevent experience</td>\n",
              "      <td>Full time course</td>\n",
              "      <td>Masters</td>\n",
              "      <td>STEM</td>\n",
              "      <td>10</td>\n",
              "      <td>&lt;10</td>\n",
              "      <td>Funded Startup</td>\n",
              "      <td>1</td>\n",
              "      <td>80</td>\n",
              "      <td>0.0</td>\n",
              "    </tr>\n",
              "    <tr>\n",
              "      <th>16868</th>\n",
              "      <td>30411</td>\n",
              "      <td>city_114</td>\n",
              "      <td>0.926</td>\n",
              "      <td>Male</td>\n",
              "      <td>Has relevent experience</td>\n",
              "      <td>no_enrollment</td>\n",
              "      <td>Masters</td>\n",
              "      <td>STEM</td>\n",
              "      <td>&gt;20</td>\n",
              "      <td>10000+</td>\n",
              "      <td>Pvt Ltd</td>\n",
              "      <td>1</td>\n",
              "      <td>32</td>\n",
              "      <td>0.0</td>\n",
              "    </tr>\n",
              "    <tr>\n",
              "      <th>2045</th>\n",
              "      <td>24320</td>\n",
              "      <td>city_73</td>\n",
              "      <td>0.754</td>\n",
              "      <td>Male</td>\n",
              "      <td>No relevent experience</td>\n",
              "      <td>Full time course</td>\n",
              "      <td>Graduate</td>\n",
              "      <td>STEM</td>\n",
              "      <td>6</td>\n",
              "      <td>1000-4999</td>\n",
              "      <td>Pvt Ltd</td>\n",
              "      <td>3</td>\n",
              "      <td>8</td>\n",
              "      <td>0.0</td>\n",
              "    </tr>\n",
              "    <tr>\n",
              "      <th>4816</th>\n",
              "      <td>6470</td>\n",
              "      <td>city_89</td>\n",
              "      <td>0.925</td>\n",
              "      <td>Male</td>\n",
              "      <td>Has relevent experience</td>\n",
              "      <td>no_enrollment</td>\n",
              "      <td>Graduate</td>\n",
              "      <td>STEM</td>\n",
              "      <td>8</td>\n",
              "      <td>50-99</td>\n",
              "      <td>Pvt Ltd</td>\n",
              "      <td>1</td>\n",
              "      <td>34</td>\n",
              "      <td>0.0</td>\n",
              "    </tr>\n",
              "    <tr>\n",
              "      <th>13853</th>\n",
              "      <td>6737</td>\n",
              "      <td>city_71</td>\n",
              "      <td>0.884</td>\n",
              "      <td>NaN</td>\n",
              "      <td>Has relevent experience</td>\n",
              "      <td>Part time course</td>\n",
              "      <td>Masters</td>\n",
              "      <td>STEM</td>\n",
              "      <td>10</td>\n",
              "      <td>100-500</td>\n",
              "      <td>NaN</td>\n",
              "      <td>3</td>\n",
              "      <td>7</td>\n",
              "      <td>0.0</td>\n",
              "    </tr>\n",
              "    <tr>\n",
              "      <th>5976</th>\n",
              "      <td>13017</td>\n",
              "      <td>city_41</td>\n",
              "      <td>0.827</td>\n",
              "      <td>Male</td>\n",
              "      <td>Has relevent experience</td>\n",
              "      <td>no_enrollment</td>\n",
              "      <td>Graduate</td>\n",
              "      <td>STEM</td>\n",
              "      <td>17</td>\n",
              "      <td>100-500</td>\n",
              "      <td>Pvt Ltd</td>\n",
              "      <td>1</td>\n",
              "      <td>30</td>\n",
              "      <td>0.0</td>\n",
              "    </tr>\n",
              "    <tr>\n",
              "      <th>8467</th>\n",
              "      <td>18876</td>\n",
              "      <td>city_103</td>\n",
              "      <td>0.920</td>\n",
              "      <td>Male</td>\n",
              "      <td>Has relevent experience</td>\n",
              "      <td>no_enrollment</td>\n",
              "      <td>Masters</td>\n",
              "      <td>STEM</td>\n",
              "      <td>&gt;20</td>\n",
              "      <td>100-500</td>\n",
              "      <td>Pvt Ltd</td>\n",
              "      <td>1</td>\n",
              "      <td>82</td>\n",
              "      <td>0.0</td>\n",
              "    </tr>\n",
              "    <tr>\n",
              "      <th>411</th>\n",
              "      <td>4642</td>\n",
              "      <td>city_73</td>\n",
              "      <td>0.754</td>\n",
              "      <td>Male</td>\n",
              "      <td>Has relevent experience</td>\n",
              "      <td>no_enrollment</td>\n",
              "      <td>Graduate</td>\n",
              "      <td>STEM</td>\n",
              "      <td>9</td>\n",
              "      <td>&lt;10</td>\n",
              "      <td>NGO</td>\n",
              "      <td>1</td>\n",
              "      <td>8</td>\n",
              "      <td>0.0</td>\n",
              "    </tr>\n",
              "    <tr>\n",
              "      <th>7257</th>\n",
              "      <td>15783</td>\n",
              "      <td>city_136</td>\n",
              "      <td>0.897</td>\n",
              "      <td>Male</td>\n",
              "      <td>Has relevent experience</td>\n",
              "      <td>no_enrollment</td>\n",
              "      <td>Masters</td>\n",
              "      <td>STEM</td>\n",
              "      <td>7</td>\n",
              "      <td>NaN</td>\n",
              "      <td>NaN</td>\n",
              "      <td>never</td>\n",
              "      <td>27</td>\n",
              "      <td>1.0</td>\n",
              "    </tr>\n",
              "  </tbody>\n",
              "</table>\n",
              "</div>\n",
              "      <button class=\"colab-df-convert\" onclick=\"convertToInteractive('df-d79555a5-152d-4220-b507-5f402b14923f')\"\n",
              "              title=\"Convert this dataframe to an interactive table.\"\n",
              "              style=\"display:none;\">\n",
              "        \n",
              "  <svg xmlns=\"http://www.w3.org/2000/svg\" height=\"24px\"viewBox=\"0 0 24 24\"\n",
              "       width=\"24px\">\n",
              "    <path d=\"M0 0h24v24H0V0z\" fill=\"none\"/>\n",
              "    <path d=\"M18.56 5.44l.94 2.06.94-2.06 2.06-.94-2.06-.94-.94-2.06-.94 2.06-2.06.94zm-11 1L8.5 8.5l.94-2.06 2.06-.94-2.06-.94L8.5 2.5l-.94 2.06-2.06.94zm10 10l.94 2.06.94-2.06 2.06-.94-2.06-.94-.94-2.06-.94 2.06-2.06.94z\"/><path d=\"M17.41 7.96l-1.37-1.37c-.4-.4-.92-.59-1.43-.59-.52 0-1.04.2-1.43.59L10.3 9.45l-7.72 7.72c-.78.78-.78 2.05 0 2.83L4 21.41c.39.39.9.59 1.41.59.51 0 1.02-.2 1.41-.59l7.78-7.78 2.81-2.81c.8-.78.8-2.07 0-2.86zM5.41 20L4 18.59l7.72-7.72 1.47 1.35L5.41 20z\"/>\n",
              "  </svg>\n",
              "      </button>\n",
              "      \n",
              "  <style>\n",
              "    .colab-df-container {\n",
              "      display:flex;\n",
              "      flex-wrap:wrap;\n",
              "      gap: 12px;\n",
              "    }\n",
              "\n",
              "    .colab-df-convert {\n",
              "      background-color: #E8F0FE;\n",
              "      border: none;\n",
              "      border-radius: 50%;\n",
              "      cursor: pointer;\n",
              "      display: none;\n",
              "      fill: #1967D2;\n",
              "      height: 32px;\n",
              "      padding: 0 0 0 0;\n",
              "      width: 32px;\n",
              "    }\n",
              "\n",
              "    .colab-df-convert:hover {\n",
              "      background-color: #E2EBFA;\n",
              "      box-shadow: 0px 1px 2px rgba(60, 64, 67, 0.3), 0px 1px 3px 1px rgba(60, 64, 67, 0.15);\n",
              "      fill: #174EA6;\n",
              "    }\n",
              "\n",
              "    [theme=dark] .colab-df-convert {\n",
              "      background-color: #3B4455;\n",
              "      fill: #D2E3FC;\n",
              "    }\n",
              "\n",
              "    [theme=dark] .colab-df-convert:hover {\n",
              "      background-color: #434B5C;\n",
              "      box-shadow: 0px 1px 3px 1px rgba(0, 0, 0, 0.15);\n",
              "      filter: drop-shadow(0px 1px 2px rgba(0, 0, 0, 0.3));\n",
              "      fill: #FFFFFF;\n",
              "    }\n",
              "  </style>\n",
              "\n",
              "      <script>\n",
              "        const buttonEl =\n",
              "          document.querySelector('#df-d79555a5-152d-4220-b507-5f402b14923f button.colab-df-convert');\n",
              "        buttonEl.style.display =\n",
              "          google.colab.kernel.accessAllowed ? 'block' : 'none';\n",
              "\n",
              "        async function convertToInteractive(key) {\n",
              "          const element = document.querySelector('#df-d79555a5-152d-4220-b507-5f402b14923f');\n",
              "          const dataTable =\n",
              "            await google.colab.kernel.invokeFunction('convertToInteractive',\n",
              "                                                     [key], {});\n",
              "          if (!dataTable) return;\n",
              "\n",
              "          const docLinkHtml = 'Like what you see? Visit the ' +\n",
              "            '<a target=\"_blank\" href=https://colab.research.google.com/notebooks/data_table.ipynb>data table notebook</a>'\n",
              "            + ' to learn more about interactive tables.';\n",
              "          element.innerHTML = '';\n",
              "          dataTable['output_type'] = 'display_data';\n",
              "          await google.colab.output.renderOutput(dataTable, element);\n",
              "          const docLink = document.createElement('div');\n",
              "          docLink.innerHTML = docLinkHtml;\n",
              "          element.appendChild(docLink);\n",
              "        }\n",
              "      </script>\n",
              "    </div>\n",
              "  </div>\n",
              "  "
            ],
            "text/plain": [
              "       enrollee_id      city  ...  training_hours target\n",
              "586          13597   city_36  ...             107    0.0\n",
              "13512        20114  city_136  ...              80    0.0\n",
              "16868        30411  city_114  ...              32    0.0\n",
              "2045         24320   city_73  ...               8    0.0\n",
              "4816          6470   city_89  ...              34    0.0\n",
              "13853         6737   city_71  ...               7    0.0\n",
              "5976         13017   city_41  ...              30    0.0\n",
              "8467         18876  city_103  ...              82    0.0\n",
              "411           4642   city_73  ...               8    0.0\n",
              "7257         15783  city_136  ...              27    1.0\n",
              "\n",
              "[10 rows x 14 columns]"
            ]
          },
          "metadata": {},
          "execution_count": 2
        }
      ],
      "source": [
        "data = pd.read_csv('aug_train.csv')\n",
        "data.sample(10)"
      ]
    },
    {
      "cell_type": "code",
      "source": [
        "data.info()"
      ],
      "metadata": {
        "colab": {
          "base_uri": "https://localhost:8080/"
        },
        "id": "jYwJBwl86H6r",
        "outputId": "1ce6aa4d-9bf7-471e-e9eb-b09092575812"
      },
      "execution_count": null,
      "outputs": [
        {
          "output_type": "stream",
          "name": "stdout",
          "text": [
            "<class 'pandas.core.frame.DataFrame'>\n",
            "RangeIndex: 19158 entries, 0 to 19157\n",
            "Data columns (total 14 columns):\n",
            " #   Column                  Non-Null Count  Dtype  \n",
            "---  ------                  --------------  -----  \n",
            " 0   enrollee_id             19158 non-null  int64  \n",
            " 1   city                    19158 non-null  object \n",
            " 2   city_development_index  19158 non-null  float64\n",
            " 3   gender                  14650 non-null  object \n",
            " 4   relevent_experience     19158 non-null  object \n",
            " 5   enrolled_university     18772 non-null  object \n",
            " 6   education_level         18698 non-null  object \n",
            " 7   major_discipline        16345 non-null  object \n",
            " 8   experience              19093 non-null  object \n",
            " 9   company_size            13220 non-null  object \n",
            " 10  company_type            13018 non-null  object \n",
            " 11  last_new_job            18735 non-null  object \n",
            " 12  training_hours          19158 non-null  int64  \n",
            " 13  target                  19158 non-null  float64\n",
            "dtypes: float64(2), int64(2), object(10)\n",
            "memory usage: 2.0+ MB\n"
          ]
        }
      ]
    },
    {
      "cell_type": "markdown",
      "metadata": {
        "id": "3xR163m0VzN7"
      },
      "source": [
        "## Description\n",
        "With the help of these features we have to predict which data scientist is looking for a job change and thus, is a better prospect in terms of hiring."
      ]
    },
    {
      "cell_type": "markdown",
      "metadata": {
        "id": "VSdDsnirVzN7"
      },
      "source": [
        "* enrollee_id : Unique ID (Useless here)\n",
        "* city: City code\n",
        "* city_ development _index : Developement index of the city (scaled)\n",
        "* gender: Gender of candidate\n",
        "* relevent_experience: Relevant experience of candidate\n",
        "* enrolled_university: Type of University course enrolled if any\n",
        "* education_level: Education level of candidate\n",
        "* major_discipline :Education major discipline of candidate\n",
        "* experience: Total experience in years\n",
        "* company_size: No of employees in current company\n",
        "* company_type : Type of current company\n",
        "* lastnewjob: Difference in years between previous job and current job\n",
        "* training_hours: training hours completed\n",
        "\n",
        "    **target: 0 – Not looking for job change, 1 – Looking for a job change**"
      ]
    },
    {
      "cell_type": "markdown",
      "metadata": {
        "id": "VvXJUMACVzN8"
      },
      "source": [
        "## Data Exploration\n",
        "\n",
        "For EDA, I used this library that provides almost all the relevent information we need. So we don't have to manually look around the data ( Saves time:) )\n"
      ]
    },
    {
      "cell_type": "code",
      "source": [
        "data.isnull().sum()"
      ],
      "metadata": {
        "colab": {
          "base_uri": "https://localhost:8080/"
        },
        "id": "syLcMKUM9bCy",
        "outputId": "d894908f-85f0-4391-ce57-b477bf3c33ec"
      },
      "execution_count": null,
      "outputs": [
        {
          "output_type": "execute_result",
          "data": {
            "text/plain": [
              "enrollee_id                  0\n",
              "city                         0\n",
              "city_development_index       0\n",
              "gender                    4508\n",
              "relevent_experience          0\n",
              "enrolled_university        386\n",
              "education_level            460\n",
              "major_discipline          2813\n",
              "experience                  65\n",
              "company_size              5938\n",
              "company_type              6140\n",
              "last_new_job               423\n",
              "training_hours               0\n",
              "target                       0\n",
              "dtype: int64"
            ]
          },
          "metadata": {},
          "execution_count": 4
        }
      ]
    },
    {
      "cell_type": "markdown",
      "metadata": {
        "id": "7J6rmqKVVzN8"
      },
      "source": [
        "# Preprocessing\n",
        "**Label encoding \"city\" feature**"
      ]
    },
    {
      "cell_type": "code",
      "execution_count": null,
      "metadata": {
        "id": "eHsNx7--VzN9",
        "colab": {
          "base_uri": "https://localhost:8080/"
        },
        "outputId": "420e5031-cf7f-4fca-936b-c6d297074908"
      },
      "outputs": [
        {
          "output_type": "execute_result",
          "data": {
            "text/plain": [
              "0     5\n",
              "1    77\n",
              "2    64\n",
              "3    14\n",
              "4    50\n",
              "Name: city, dtype: int64"
            ]
          },
          "metadata": {},
          "execution_count": 5
        }
      ],
      "source": [
        "le = LabelEncoder()\n",
        "\n",
        "data['city'] = le.fit_transform(data['city'])\n",
        "data['city'].head(5)"
      ]
    },
    {
      "cell_type": "markdown",
      "metadata": {
        "id": "55H1gabxVzN9"
      },
      "source": [
        "**Manual encoding ordinal features**\n",
        "Some of the categorical features in this dataset are ordinal, i.e,there is a clear ordering of the categories. So I have manually encoded these."
      ]
    },
    {
      "cell_type": "code",
      "execution_count": null,
      "metadata": {
        "id": "cBdMxrLjVzN9"
      },
      "outputs": [],
      "source": [
        "gender_map = {\n",
        "    'Female' : 2,\n",
        "    'Male' : 1,\n",
        "    'Other' : 0\n",
        "    }\n",
        "\n",
        "relevent_experience_map = {\n",
        "    'Has relevent experience' : 1,\n",
        "    'No relevent experience' : 0\n",
        "    }\n",
        "\n",
        "enrolled_university_map = {\n",
        "    'no_enrollment' : 0,\n",
        "    'Part time course' : 1,\n",
        "    'Full time course' : 2\n",
        "    }\n",
        "\n",
        "education_level_map = {\n",
        "    'Primary School' :    0,\n",
        "    'Graduate'       :    2,\n",
        "    'Masters'        :    3,\n",
        "    'High School'    :    1,\n",
        "    'Phd'            :    4\n",
        "    }\n",
        "\n",
        "major_map = {\n",
        "    'STEM' : 0,\n",
        "    'Business Degree' : 1,\n",
        "    'Humanities' : 2,\n",
        "    'Arts' : 3,\n",
        "    'Other' : 4,\n",
        "    'No Major' : 5\n",
        "    }\n",
        "\n",
        "experience_map = {\n",
        "    '<1' : 0,\n",
        "    '1' : 1,\n",
        "    '2' : 2,\n",
        "    '3' : 3,\n",
        "    '4' : 4,\n",
        "    '5' : 5,\n",
        "    '6' : 6,\n",
        "    '7' : 7,\n",
        "    '8' : 8,\n",
        "    '9' : 9,\n",
        "    '10' : 10,\n",
        "    '11' : 11,\n",
        "    '12' : 12,\n",
        "    '13' : 13,\n",
        "    '14' : 14,\n",
        "    '15' : 15,\n",
        "    '16' : 16,\n",
        "    '17' : 17,\n",
        "    '18' : 18,\n",
        "    '19' : 19,\n",
        "    '20' : 20,\n",
        "    '>20' : 21\n",
        "    }\n",
        "\n",
        "size_map = {\n",
        "    '<10' : 0,\n",
        "    '10/49' : 1,\n",
        "    '50-99' : 2,\n",
        "    '100-500' :3,\n",
        "    '500-999' :4,\n",
        "    '1000-4999': 5,\n",
        "    '5000-9999' : 6,\n",
        "    '10000+' : 7\n",
        "    }\n",
        "\n",
        "company_type_map = {\n",
        "    'Pvt Ltd'               :    0,\n",
        "    'Funded Startup'        :    1,\n",
        "    'Early Stage Startup'   :    2,\n",
        "    'Other'                 :    3,\n",
        "    'Public Sector'         :    4,\n",
        "    'NGO'                   :    5\n",
        "}\n",
        "\n",
        "last_new_job_map = {\n",
        "    'never'        :    0,\n",
        "    '1'            :    1,\n",
        "    '2'            :    2,\n",
        "    '3'            :    3,\n",
        "    '4'            :    4,\n",
        "    '>4'           :    5\n",
        "}\n",
        "\n",
        "data.loc[:,'education_level'] = data['education_level'].map(education_level_map)\n",
        "data.loc[:,'company_size'] = data['company_size'].map(size_map)\n",
        "data.loc[:,'company_type'] = data['company_type'].map(company_type_map)\n",
        "data.loc[:,'last_new_job'] = data['last_new_job'].map(last_new_job_map)\n",
        "data.loc[:,'major_discipline'] = data['major_discipline'].map(major_map)\n",
        "data.loc[:,'enrolled_university'] = data['enrolled_university'].map(enrolled_university_map)\n",
        "data.loc[:,'relevent_experience'] = data['relevent_experience'].map(relevent_experience_map)\n",
        "data.loc[:,'gender'] = data['gender'].map(gender_map)\n",
        "data.loc[:,'experience'] = data['experience'].map(experience_map)"
      ]
    },
    {
      "cell_type": "markdown",
      "metadata": {
        "id": "WeKBljZMVzN-"
      },
      "source": [
        "# Handling missing data with knn\n",
        "As we saw in the EDA report, there is a lot of missing data which we can deal with the help of KNN Imputer"
      ]
    },
    {
      "cell_type": "code",
      "execution_count": null,
      "metadata": {
        "id": "EkYCOvBkVzN_"
      },
      "outputs": [],
      "source": [
        "knn_imputer = KNNImputer()\n",
        "#making a copy just in case\n",
        "copy = data.copy()\n",
        "\n",
        "copy = knn_imputer.fit_transform(copy)\n",
        "#rounding the knn values\n",
        "copy[:, 3:] = np.round(copy[:, 3:])\n",
        "data = pd.DataFrame(copy, columns = data.columns)"
      ]
    },
    {
      "cell_type": "code",
      "source": [
        "from sklearn.model_selection import train_test_split\n",
        "from sklearn.linear_model import LinearRegression\n",
        "from sklearn.metrics import r2_score\n",
        "\n",
        "import pandas as pd\n",
        "import matplotlib.pyplot as plt\n",
        "import seaborn as sns\n",
        "import numpy as np\n",
        "\n",
        "import statsmodels.api as sm\n",
        "from statsmodels.stats.outliers_influence import variance_inflation_factor\n",
        "\n",
        "%matplotlib inline"
      ],
      "metadata": {
        "id": "gu58rqz-XyLE",
        "colab": {
          "base_uri": "https://localhost:8080/"
        },
        "outputId": "aac75731-0dfc-4367-d5d0-ae9dec0efcc0"
      },
      "execution_count": null,
      "outputs": [
        {
          "output_type": "stream",
          "name": "stderr",
          "text": [
            "/usr/local/lib/python3.7/dist-packages/statsmodels/tools/_testing.py:19: FutureWarning: pandas.util.testing is deprecated. Use the functions in the public API at pandas.testing instead.\n",
            "  import pandas.util.testing as tm\n"
          ]
        }
      ]
    },
    {
      "cell_type": "code",
      "source": [
        "mask = np.zeros_like(data.corr())\n",
        "triangle_indices = np.triu_indices_from(mask)\n",
        "mask[triangle_indices] = True\n",
        "mask"
      ],
      "metadata": {
        "colab": {
          "base_uri": "https://localhost:8080/"
        },
        "id": "4RyZf9jjps52",
        "outputId": "c398ba88-924f-4779-c451-ab2eed705861"
      },
      "execution_count": null,
      "outputs": [
        {
          "output_type": "execute_result",
          "data": {
            "text/plain": [
              "array([[1., 1., 1., 1., 1., 1., 1., 1., 1., 1., 1., 1., 1., 1.],\n",
              "       [0., 1., 1., 1., 1., 1., 1., 1., 1., 1., 1., 1., 1., 1.],\n",
              "       [0., 0., 1., 1., 1., 1., 1., 1., 1., 1., 1., 1., 1., 1.],\n",
              "       [0., 0., 0., 1., 1., 1., 1., 1., 1., 1., 1., 1., 1., 1.],\n",
              "       [0., 0., 0., 0., 1., 1., 1., 1., 1., 1., 1., 1., 1., 1.],\n",
              "       [0., 0., 0., 0., 0., 1., 1., 1., 1., 1., 1., 1., 1., 1.],\n",
              "       [0., 0., 0., 0., 0., 0., 1., 1., 1., 1., 1., 1., 1., 1.],\n",
              "       [0., 0., 0., 0., 0., 0., 0., 1., 1., 1., 1., 1., 1., 1.],\n",
              "       [0., 0., 0., 0., 0., 0., 0., 0., 1., 1., 1., 1., 1., 1.],\n",
              "       [0., 0., 0., 0., 0., 0., 0., 0., 0., 1., 1., 1., 1., 1.],\n",
              "       [0., 0., 0., 0., 0., 0., 0., 0., 0., 0., 1., 1., 1., 1.],\n",
              "       [0., 0., 0., 0., 0., 0., 0., 0., 0., 0., 0., 1., 1., 1.],\n",
              "       [0., 0., 0., 0., 0., 0., 0., 0., 0., 0., 0., 0., 1., 1.],\n",
              "       [0., 0., 0., 0., 0., 0., 0., 0., 0., 0., 0., 0., 0., 1.]])"
            ]
          },
          "metadata": {},
          "execution_count": 9
        }
      ]
    },
    {
      "cell_type": "code",
      "source": [
        "plt.figure(figsize=(12,7.5))\n",
        "sns.heatmap(data.corr(), mask=mask, annot=True, annot_kws={\"size\": 10})\n",
        "plt.title('Correlation of features', fontsize=25, pad=10)\n",
        "sns.set_style('white')\n",
        "plt.xticks(fontsize=14)\n",
        "plt.yticks(fontsize=14)\n",
        "plt.xticks(rotation=30, ha='right');\n",
        "plt.show()"
      ],
      "metadata": {
        "id": "qsvEQ3zipB09",
        "colab": {
          "base_uri": "https://localhost:8080/",
          "height": 572
        },
        "outputId": "411188e6-f788-419f-a0f8-8e21765fc345"
      },
      "execution_count": null,
      "outputs": [
        {
          "output_type": "display_data",
          "data": {
            "image/png": "[encoded data removed]",
            "text/plain": [
              "<Figure size 864x540 with 2 Axes>"
            ]
          },
          "metadata": {
            "needs_background": "light"
          }
        }
      ]
    },
    {
      "cell_type": "markdown",
      "metadata": {
        "id": "c0zXaeQoVzOA"
      },
      "source": [
        "# One Hot Encoding\n",
        "Now, the categorical features which are not ordinal will be one hot encoded"
      ]
    },
    {
      "cell_type": "markdown",
      "metadata": {
        "id": "_2DdF4gSVzOB"
      },
      "source": [
        " **Dividing numeric and categorical data**"
      ]
    },
    {
      "cell_type": "code",
      "execution_count": null,
      "metadata": {
        "id": "KpAzVMmTVzOB"
      },
      "outputs": [],
      "source": [
        "numeric = data[[\"city_development_index\", \"training_hours\", \"target\"]].copy()\n",
        "category = data[[\"city\", \"gender\", \"relevent_experience\", \"enrolled_university\", \"education_level\", \"major_discipline\", \"experience\", \"company_size\", \"company_type\", \"last_new_job\"]].copy()\n",
        "\n",
        "#using the previously manual encoded columns\n",
        "category_ordinalencoded = category[['education_level', 'experience', 'company_size', 'last_new_job']]\n"
      ]
    },
    {
      "cell_type": "markdown",
      "metadata": {
        "id": "_gO5ykCPVzOC"
      },
      "source": [
        " **One Hot encoding the rest categorical columns**"
      ]
    },
    {
      "cell_type": "code",
      "execution_count": null,
      "metadata": {
        "id": "EEvJXPCnVzOC"
      },
      "outputs": [],
      "source": [
        "#columns that need to be one hot encoded\n",
        "one_how_columns = [ col for col in category.columns if col not in ['education_level', 'experience', 'company_size', 'last_new_job']]\n",
        "\n",
        "#onehotencoder\n",
        "ohe = OneHotEncoder(sparse=False).fit(category.loc[:, one_how_columns])\n",
        "category_onehotEncoded = ohe.transform(category.loc[:, one_how_columns])\n",
        "\n",
        "#joining all the category columns\n",
        "category_preprocessed = np.concatenate([category_onehotEncoded, category_ordinalencoded], axis=1)\n",
        "\n",
        "#joining all the features\n",
        "X = np.concatenate([numeric.drop('target', axis=1).values, category_preprocessed], axis=1)\n",
        "y = numeric['target'].values"
      ]
    },
    {
      "cell_type": "code",
      "source": [
        "data.info()"
      ],
      "metadata": {
        "id": "4I8081aKxbJu",
        "outputId": "9d4c8840-d6e9-41eb-8042-aa1631edbb0b",
        "colab": {
          "base_uri": "https://localhost:8080/"
        }
      },
      "execution_count": null,
      "outputs": [
        {
          "output_type": "stream",
          "name": "stdout",
          "text": [
            "<class 'pandas.core.frame.DataFrame'>\n",
            "RangeIndex: 19158 entries, 0 to 19157\n",
            "Data columns (total 14 columns):\n",
            " #   Column                  Non-Null Count  Dtype  \n",
            "---  ------                  --------------  -----  \n",
            " 0   enrollee_id             19158 non-null  float64\n",
            " 1   city                    19158 non-null  float64\n",
            " 2   city_development_index  19158 non-null  float64\n",
            " 3   gender                  19158 non-null  float64\n",
            " 4   relevent_experience     19158 non-null  float64\n",
            " 5   enrolled_university     19158 non-null  float64\n",
            " 6   education_level         19158 non-null  float64\n",
            " 7   major_discipline        19158 non-null  float64\n",
            " 8   experience              19158 non-null  float64\n",
            " 9   company_size            19158 non-null  float64\n",
            " 10  company_type            19158 non-null  float64\n",
            " 11  last_new_job            19158 non-null  float64\n",
            " 12  training_hours          19158 non-null  float64\n",
            " 13  target                  19158 non-null  float64\n",
            "dtypes: float64(14)\n",
            "memory usage: 2.0 MB\n"
          ]
        }
      ]
    },
    {
      "cell_type": "markdown",
      "metadata": {
        "id": "UHK7kwoKVzOD"
      },
      "source": [
        "## Imbalanced data\n",
        "As we can see clearly, the data is very imbalanced which needs to be dealt with if we want our model to train properly.\n",
        "For this, I used SMOTE(Synthetic Minority Oversampling Technique) to make the data balanced.\n",
        "> If you want to know more about SMOTE, check this [link](https://machinelearningmastery.com/smote-oversampling-for-imbalanced-classification/)"
      ]
    },
    {
      "cell_type": "code",
      "source": [
        "count = Counter(y)\n",
        "plt.bar(['1', '0'], count.values(), color = 'blue')\n",
        "plt.title('Distribution of y')\n",
        "plt.xlabel('Class')\n",
        "plt.ylabel('Number of samples')\n",
        "plt.show()"
      ],
      "metadata": {
        "id": "n_0N_41mDQFx",
        "colab": {
          "base_uri": "https://localhost:8080/",
          "height": 295
        },
        "outputId": "a921be38-7a48-443f-d533-25eddb6967f0"
      },
      "execution_count": null,
      "outputs": [
        {
          "output_type": "display_data",
          "data": {
            "image/png": "[encoded data removed]",
            "text/plain": [
              "<Figure size 432x288 with 1 Axes>"
            ]
          },
          "metadata": {}
        }
      ]
    },
    {
      "cell_type": "code",
      "execution_count": null,
      "metadata": {
        "id": "aHmZkixtVzOD"
      },
      "outputs": [],
      "source": [
        "X, y = SMOTE(random_state = 99).fit_resample(X, y)"
      ]
    },
    {
      "cell_type": "markdown",
      "metadata": {
        "id": "5zVEuwwhVzOD"
      },
      "source": [
        "## Train-test split"
      ]
    },
    {
      "cell_type": "code",
      "execution_count": null,
      "metadata": {
        "id": "XNsv29Z6VzOD"
      },
      "outputs": [],
      "source": [
        "X_train, X_test, y_train, y_test = train_test_split(X, y, test_size=0.2, stratify=y, random_state = 99)"
      ]
    },
    {
      "cell_type": "markdown",
      "metadata": {
        "id": "sPDuXMLwVzOE"
      },
      "source": [
        "# Comparing models\n",
        "### Decision tree"
      ]
    },
    {
      "cell_type": "code",
      "execution_count": null,
      "metadata": {
        "id": "OxqQGIqNVzOE",
        "colab": {
          "base_uri": "https://localhost:8080/"
        },
        "outputId": "255a3fa1-3a50-414c-a52b-377ac6c58a08"
      },
      "outputs": [
        {
          "output_type": "stream",
          "name": "stdout",
          "text": [
            "Accuracy of Decision tree is 79.65 %\n"
          ]
        }
      ],
      "source": [
        "dtc = DecisionTreeClassifier(criterion='entropy',random_state = 99)\n",
        "dtc.fit(X_train, y_train)\n",
        "\n",
        "y_dtc = dtc.predict(X_test)\n",
        "acc_dtc = accuracy_score(y_test, y_dtc)\n",
        "print(\"Accuracy of Decision tree is\", round(acc_dtc*100, 2), '%')"
      ]
    },
    {
      "cell_type": "code",
      "source": [
        "print(classification_report(y_test, y_dtc))\n",
        "print(\"Accuracy of Decision tree is\", round(acc_dtc*100, 2), '%')"
      ],
      "metadata": {
        "id": "lw5wm35lkgC6",
        "colab": {
          "base_uri": "https://localhost:8080/"
        },
        "outputId": "60b98dd6-cc86-4a2f-c240-f28b9f0de282"
      },
      "execution_count": null,
      "outputs": [
        {
          "output_type": "stream",
          "name": "stdout",
          "text": [
            "              precision    recall  f1-score   support\n",
            "\n",
            "         0.0       0.80      0.79      0.80      2876\n",
            "         1.0       0.79      0.80      0.80      2877\n",
            "\n",
            "    accuracy                           0.80      5753\n",
            "   macro avg       0.80      0.80      0.80      5753\n",
            "weighted avg       0.80      0.80      0.80      5753\n",
            "\n",
            "Accuracy of Decision tree is 79.65 %\n"
          ]
        }
      ]
    },
    {
      "cell_type": "code",
      "source": [
        "cm_dtc = confusion_matrix(y_test, y_dtc, labels=dtc.classes_)\n",
        "disp_dtc = ConfusionMatrixDisplay(confusion_matrix=cm_dtc, display_labels=dtc.classes_)\n",
        "\n",
        "disp_dtc.plot()\n",
        "plt.show()"
      ],
      "metadata": {
        "id": "Kr7W_HNTlE4S",
        "colab": {
          "base_uri": "https://localhost:8080/",
          "height": 279
        },
        "outputId": "7ea3f591-79f6-4c1b-9331-f39b866697b5"
      },
      "execution_count": null,
      "outputs": [
        {
          "output_type": "display_data",
          "data": {
            "image/png": "[encoded data removed]",
            "text/plain": [
              "<Figure size 432x288 with 2 Axes>"
            ]
          },
          "metadata": {}
        }
      ]
    },
    {
      "cell_type": "markdown",
      "metadata": {
        "id": "BdU20tMRVzOE"
      },
      "source": [
        "\n",
        "### SVM"
      ]
    },
    {
      "cell_type": "code",
      "execution_count": null,
      "metadata": {
        "id": "T_K0yKIAVzOE",
        "colab": {
          "base_uri": "https://localhost:8080/"
        },
        "outputId": "8451af48-3bfd-492d-a7c2-bb3ada4dd271"
      },
      "outputs": [
        {
          "output_type": "stream",
          "name": "stdout",
          "text": [
            "Accuracy of SVM is 79.16 %\n"
          ]
        }
      ],
      "source": [
        "#svm needs scaled data\n",
        "from sklearn.preprocessing import StandardScaler\n",
        "sc_X = StandardScaler()\n",
        "train_copy = X_train.copy()\n",
        "test_copy = X_test.copy()\n",
        "\n",
        "train_copy = sc_X.fit_transform(train_copy)\n",
        "test_copy = sc_X.transform(test_copy)\n",
        "svm = SVC(kernel = 'rbf', random_state=0)\n",
        "svm.fit(train_copy, y_train)\n",
        "\n",
        "#predicting test set\n",
        "y_svm = svm.predict(test_copy)\n",
        "acc_svm = accuracy_score(y_test, y_svm)\n",
        "print(\"Accuracy of SVM is\", round(acc_svm*100, 2), '%')"
      ]
    },
    {
      "cell_type": "code",
      "source": [
        "print(classification_report(y_test, y_svm))\n",
        "print(\"Accuracy of SVM is\", round(acc_svm*100, 2), '%')"
      ],
      "metadata": {
        "id": "rktu7b01k69j",
        "colab": {
          "base_uri": "https://localhost:8080/"
        },
        "outputId": "47d8618d-a45e-4a90-b995-8d174e15daac"
      },
      "execution_count": null,
      "outputs": [
        {
          "output_type": "stream",
          "name": "stdout",
          "text": [
            "              precision    recall  f1-score   support\n",
            "\n",
            "         0.0       0.75      0.87      0.81      2876\n",
            "         1.0       0.84      0.71      0.77      2877\n",
            "\n",
            "    accuracy                           0.79      5753\n",
            "   macro avg       0.80      0.79      0.79      5753\n",
            "weighted avg       0.80      0.79      0.79      5753\n",
            "\n",
            "Accuracy of SVM is 79.16 %\n"
          ]
        }
      ]
    },
    {
      "cell_type": "code",
      "source": [
        "cm_svm = confusion_matrix(y_test, y_svm, labels=svm.classes_)\n",
        "disp_svm = ConfusionMatrixDisplay(confusion_matrix=cm_svm, display_labels=svm.classes_)\n",
        "\n",
        "disp_svm.plot()\n",
        "plt.show()"
      ],
      "metadata": {
        "id": "_-Y_Nn0B-ICX",
        "colab": {
          "base_uri": "https://localhost:8080/",
          "height": 279
        },
        "outputId": "8dbf3764-6183-4624-94b7-ed7328f0f7ef"
      },
      "execution_count": null,
      "outputs": [
        {
          "output_type": "display_data",
          "data": {
            "image/png": "[encoded data removed]",
            "text/plain": [
              "<Figure size 432x288 with 2 Axes>"
            ]
          },
          "metadata": {}
        }
      ]
    },
    {
      "cell_type": "markdown",
      "metadata": {
        "id": "2MV-W3jgVzOE"
      },
      "source": [
        "\n",
        "### Random Forest"
      ]
    },
    {
      "cell_type": "code",
      "execution_count": null,
      "metadata": {
        "id": "467RG3tUVzOE",
        "colab": {
          "base_uri": "https://localhost:8080/"
        },
        "outputId": "48badb31-4e27-4814-cd34-d1fcfade17ea"
      },
      "outputs": [
        {
          "output_type": "stream",
          "name": "stdout",
          "text": [
            "Accuracy of Random Forest is 84.5 %\n"
          ]
        }
      ],
      "source": [
        "rf1 = RandomForestClassifier(random_state = 0)\n",
        "rf1.fit(X_train, y_train)\n",
        "\n",
        "#predicting test set\n",
        "y_rf1 = rf1.predict(X_test)\n",
        "acc_rf = accuracy_score(y_test, y_rf1)\n",
        "print(\"Accuracy of Random Forest is\", round(acc_rf*100, 2), '%')"
      ]
    },
    {
      "cell_type": "code",
      "execution_count": null,
      "metadata": {
        "id": "0O_i5-nDVzOI",
        "colab": {
          "base_uri": "https://localhost:8080/"
        },
        "outputId": "0e87d370-d673-4153-a614-6eccf086232e"
      },
      "outputs": [
        {
          "output_type": "stream",
          "name": "stdout",
          "text": [
            "              precision    recall  f1-score   support\n",
            "\n",
            "         0.0       0.81      0.90      0.85      2876\n",
            "         1.0       0.89      0.79      0.84      2877\n",
            "\n",
            "    accuracy                           0.84      5753\n",
            "   macro avg       0.85      0.84      0.84      5753\n",
            "weighted avg       0.85      0.84      0.84      5753\n",
            "\n",
            "Accuracy of Random Forest is 84.5 %\n"
          ]
        }
      ],
      "source": [
        "print(classification_report(y_test, y_rf1))\n",
        "print(\"Accuracy of Random Forest is\", round(acc_rf*100, 2), '%')"
      ]
    },
    {
      "cell_type": "code",
      "source": [
        "cm_rf = confusion_matrix(y_test, y_rf1, labels=rf1.classes_)\n",
        "disp_rf = ConfusionMatrixDisplay(confusion_matrix=cm_rf, display_labels=rf1.classes_)\n",
        "\n",
        "disp_rf.plot()\n",
        "plt.show()"
      ],
      "metadata": {
        "id": "mdGu6kcE-J0f",
        "colab": {
          "base_uri": "https://localhost:8080/",
          "height": 279
        },
        "outputId": "e73d2574-23b8-41e5-c088-0b3078fbe1fe"
      },
      "execution_count": null,
      "outputs": [
        {
          "output_type": "display_data",
          "data": {
            "image/png": "[encoded data removed]",
            "text/plain": [
              "<Figure size 432x288 with 2 Axes>"
            ]
          },
          "metadata": {}
        }
      ]
    },
    {
      "cell_type": "code",
      "source": [
        "Models = {'Decision Tree':acc_dtc, 'SVM':acc_svm, 'Random Forest':acc_rf}\n",
        "Models"
      ],
      "metadata": {
        "id": "wNZzvydD5chx",
        "colab": {
          "base_uri": "https://localhost:8080/"
        },
        "outputId": "2c03f9c8-c2bb-4d8e-aab7-29fb1b5f732a"
      },
      "execution_count": null,
      "outputs": [
        {
          "output_type": "execute_result",
          "data": {
            "text/plain": [
              "{'Decision Tree': 0.7964540239874848,\n",
              " 'Random Forest': 0.844950460629237,\n",
              " 'SVM': 0.7915869980879541}"
            ]
          },
          "metadata": {},
          "execution_count": 26
        }
      ]
    },
    {
      "cell_type": "code",
      "source": [
        "sns.set_style(\"whitegrid\")\n",
        "plt.figure(figsize=(8,6))\n",
        "plt.yticks(np.arange(0,100,10))\n",
        "plt.ylabel(\"Accuracy %\")\n",
        "plt.xlabel(\"Algorithms\")\n",
        "ax = sns.barplot(x=list(Models.keys()), y=list(Models.values()),\n",
        "                 order={key:value for key,\n",
        "                        value in sorted(Models.items(),\n",
        "                                        key=lambda x: x[1])}, palette='PuBuGn')\n",
        "\n",
        "plt.show()"
      ],
      "metadata": {
        "id": "ZUyx4Xhh5bck",
        "colab": {
          "base_uri": "https://localhost:8080/",
          "height": 388
        },
        "outputId": "9c5ca26d-7522-4444-98fe-373d157208db"
      },
      "execution_count": null,
      "outputs": [
        {
          "output_type": "display_data",
          "data": {
            "image/png": "[encoded data removed]",
            "text/plain": [
              "<Figure size 576x432 with 1 Axes>"
            ]
          },
          "metadata": {}
        }
      ]
    }
  ],
  "metadata": {
    "colab": {
      "provenance": [],
      "machine_shape": "hm"
    },
    "kernelspec": {
      "display_name": "Python 3",
      "language": "python",
      "name": "python3"
    },
    "language_info": {
      "codemirror_mode": {
        "name": "ipython",
        "version": 3
      },
      "file_extension": ".py",
      "mimetype": "text/x-python",
      "name": "python",
      "nbconvert_exporter": "python",
      "pygments_lexer": "ipython3",
      "version": "3.6.4"
    }
  },
  "nbformat": 4,
  "nbformat_minor": 0
}